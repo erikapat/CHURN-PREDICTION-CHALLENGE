{
 "cells": [
  {
   "cell_type": "markdown",
   "metadata": {
    "ExecuteTime": {
     "end_time": "2018-04-14T16:16:57.245541Z",
     "start_time": "2018-04-14T16:16:57.240789Z"
    }
   },
   "source": [
    "## RUTAS DE CONFIGURACIÓN"
   ]
  },
  {
   "cell_type": "code",
   "execution_count": 5,
   "metadata": {
    "ExecuteTime": {
     "end_time": "2018-04-14T16:18:22.045513Z",
     "start_time": "2018-04-14T16:18:22.040885Z"
    },
    "collapsed": true,
    "jupyter": {
     "outputs_hidden": true
    }
   },
   "outputs": [],
   "source": [
    "RUTA_STORAGE = \"kkboxschurn/\""
   ]
  },
  {
   "cell_type": "markdown",
   "metadata": {
    "heading_collapsed": true
   },
   "source": [
    "## IMPORTACIÓN DE LIBRERÍAS"
   ]
  },
  {
   "cell_type": "code",
   "execution_count": 2,
   "metadata": {
    "ExecuteTime": {
     "end_time": "2018-04-14T16:15:17.735205Z",
     "start_time": "2018-04-14T16:15:16.408735Z"
    },
    "collapsed": true,
    "hidden": true,
    "jupyter": {
     "outputs_hidden": true
    }
   },
   "outputs": [],
   "source": [
    " #! pip install datalab\\n\"\n",
    "import json\n",
    "import pprint\n",
    "import subprocess\n",
    "import pyspark\n",
    "import time\n",
    "from pyspark.sql import SQLContext,DataFrame\n",
    "from pyspark.sql import functions as F\n",
    "from pyspark.sql.window import Window\n",
    "from pyspark.sql.functions import udf, array, col, explode, lit, struct, rank, desc,to_date, add_months, row_number, isnan, isnull, when, count\n",
    "from pyspark.sql.types import IntegerType, DoubleType ,Row , StructType\n",
    "from pyspark.ml.feature import VectorSlicer\n",
    "from pyspark.ml.linalg import Vector\n",
    "from pyspark.mllib.stat import Statistics\n",
    "from typing import Iterable \n",
    "import pandas as pd\n",
    "import numpy as np\n",
    "from functools import reduce  \n",
    "#import datalab.storage as gcs\\n\",\n",
    "from pyspark.storagelevel import StorageLevel \n",
    "from pyspark.ml.tuning import CrossValidator, ParamGridBuilder\n",
    "from pyspark.ml.evaluation import RegressionEvaluator"
   ]
  },
  {
   "cell_type": "markdown",
   "metadata": {
    "ExecuteTime": {
     "end_time": "2018-04-14T16:12:14.737794Z",
     "start_time": "2018-04-14T16:12:14.730894Z"
    }
   },
   "source": [
    "## TRANSFORMACIÓN DE FICHEROS"
   ]
  },
  {
   "cell_type": "code",
   "execution_count": null,
   "metadata": {
    "ExecuteTime": {
     "start_time": "2018-04-14T16:24:22.377Z"
    },
    "collapsed": true,
    "deletable": false,
    "editable": false,
    "jupyter": {
     "outputs_hidden": true
    },
    "run_control": {
     "frozen": true
    }
   },
   "outputs": [],
   "source": [
    "transactions = spark.read.csv(\"gs://\"+str(RUTA_STORAGE)+\"input/transactions.csv\", header=True)\n",
    "transactions.write.format(\"parquet\").save(\"gs://\"+str(RUTA_STORAGE)+\"input_tratado/transactions\")\n",
    "\n",
    "members_v3 = spark.read.csv(\"gs://\"+str(RUTA_STORAGE)+\"input/members_v3.csv\", header=True)\n",
    "members_v3.write.format(\"parquet\").save(\"gs://\"+str(RUTA_STORAGE)+\"input_tratado/members_v3\")\n",
    "\n",
    "train_v2 = spark.read.csv(\"gs://\"+str(RUTA_STORAGE)+\"input/train_v2.csv\", header=True)\n",
    "train_v2.write.format(\"parquet\").save(\"gs://\"+str(RUTA_STORAGE)+\"input_tratado/train_v2\")\n",
    "\n",
    "train = spark.read.csv(\"gs://\"+str(RUTA_STORAGE)+\"input/train.csv\", header=True)\n",
    "train.write.format(\"parquet\").save(\"gs://\"+str(RUTA_STORAGE)+\"input_tratado/train\")\n",
    "\n",
    "transactions_v2 = spark.read.csv(\"gs://\"+str(RUTA_STORAGE)+\"input/transactions_v2.csv\", header=True)\n",
    "transactions_v2.write.format(\"parquet\").save(\"gs://\"+str(RUTA_STORAGE)+\"input_tratado/transactions_v2\")\n",
    "\n",
    "user_logs = spark.read.csv(\"gs://\"+str(RUTA_STORAGE)+\"input/user_logs.csv\", header=True)\n",
    "user_logs.write.format(\"parquet\").save(\"gs://\"+str(RUTA_STORAGE)+\"input_tratado/user_logs\")\n",
    "\n",
    "user_logs_v2 = spark.read.csv(\"gs://\"+str(RUTA_STORAGE)+\"input/user_logs_v2.csv\", header=True)\n",
    "user_logs_v2.write.format(\"parquet\").save(\"gs://\"+str(RUTA_STORAGE)+\"input_tratado/user_logs_v2\")\n",
    "   "
   ]
  },
  {
   "cell_type": "markdown",
   "metadata": {
    "ExecuteTime": {
     "end_time": "2018-04-14T16:21:22.151146Z",
     "start_time": "2018-04-14T16:21:22.147886Z"
    }
   },
   "source": [
    "## LECTURA DE FICHEROS"
   ]
  },
  {
   "cell_type": "code",
   "execution_count": 10,
   "metadata": {
    "ExecuteTime": {
     "end_time": "2018-04-14T16:22:12.653017Z",
     "start_time": "2018-04-14T16:22:11.289543Z"
    },
    "collapsed": true,
    "jupyter": {
     "outputs_hidden": true
    }
   },
   "outputs": [],
   "source": [
    "transactions = sqlContext.read.parquet(\"gs://\"+str(RUTA_STORAGE)+\"input_tratado/transactions\")\n",
    "transactions.createOrReplaceTempView(\"transactions\")\n",
    "\n",
    "members_v3 = sqlContext.read.parquet(\"gs://\"+str(RUTA_STORAGE)+\"input_tratado/members_v3\")\n",
    "members_v3.createOrReplaceTempView(\"members_v3\")\n",
    "\n",
    "train_v2 = sqlContext.read.parquet(\"gs://\"+str(RUTA_STORAGE)+\"input_tratado/train_v2\")\n",
    "train_v2.createOrReplaceTempView(\"train_v2\")\n",
    "\n",
    "train = sqlContext.read.parquet(\"gs://\"+str(RUTA_STORAGE)+\"input_tratado/train\")\n",
    "train.createOrReplaceTempView(\"train\")\n",
    "\n",
    "transactions_v2 = sqlContext.read.parquet(\"gs://\"+str(RUTA_STORAGE)+\"input_tratado/transactions_v2\")\n",
    "transactions_v2.createOrReplaceTempView(\"transactions_v2\")\n",
    "\n",
    "user_logs_v2 = sqlContext.read.parquet(\"gs://\"+str(RUTA_STORAGE)+\"input_tratado/user_logs_v2\")\n",
    "user_logs_v2.createOrReplaceTempView(\"user_logs_v2\")\n",
    "\n",
    "user_logs = sqlContext.read.parquet(\"gs://\"+str(RUTA_STORAGE)+\"input_tratado/user_logs\")\n",
    "user_logs.createOrReplaceTempView(\"user_logs\")"
   ]
  }
 ],
 "metadata": {
  "anaconda-cloud": {},
  "kernelspec": {
   "display_name": "example",
   "language": "python",
   "name": "example"
  },
  "language_info": {
   "codemirror_mode": {
    "name": "ipython",
    "version": 3
   },
   "file_extension": ".py",
   "mimetype": "text/x-python",
   "name": "python",
   "nbconvert_exporter": "python",
   "pygments_lexer": "ipython3",
   "version": "3.8.0"
  }
 },
 "nbformat": 4,
 "nbformat_minor": 4
}
